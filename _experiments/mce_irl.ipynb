{
 "cells": [
  {
   "cell_type": "markdown",
   "metadata": {},
   "source": [
    "# Demonstration of MCE IRL code & environments\n",
    "\n",
    "This is just tabular environments & vanilla MCE IRL."
   ]
  },
  {
   "cell_type": "code",
   "execution_count": 1,
   "metadata": {},
   "outputs": [],
   "source": [
    "%matplotlib inline\n",
    "%load_ext autoreload\n",
    "%autoreload 2\n",
    "\n",
    "import copy\n",
    "\n",
    "import numpy as np\n",
    "import seaborn as sns\n",
    "import pandas as pd\n",
    "import jax.experimental.optimizers as jaxopt\n",
    "import matplotlib.pyplot as plt\n",
    "import scipy\n",
    "\n",
    "import imitation.tabular_irl as tirl\n",
    "import imitation.examples.model_envs as menv\n",
    "\n",
    "sns.set(context='notebook')\n",
    "\n",
    "np.random.seed(42)"
   ]
  },
  {
   "cell_type": "markdown",
   "metadata": {},
   "source": [
    "# IRL on a random MDP\n",
    "\n",
    "Testing both linear reward models & MLP reward models."
   ]
  },
  {
   "cell_type": "code",
   "execution_count": 2,
   "metadata": {},
   "outputs": [],
   "source": [
    "mdp = menv.RandomMDP(\n",
    "    n_states=16,\n",
    "    n_actions=3,\n",
    "    branch_factor=2,\n",
    "    horizon=10,\n",
    "    random_obs=True,\n",
    "    obs_dim=5,\n",
    "    generator_seed=42)\n",
    "V, Q, pi = tirl.mce_partition_fh(mdp)\n",
    "Dt, D = tirl.mce_occupancy_measures(mdp, pi=pi)\n",
    "demo_counts = D @ mdp.observation_matrix\n",
    "obs_dim, = demo_counts.shape"
   ]
  },
  {
   "cell_type": "code",
   "execution_count": 3,
   "metadata": {},
   "outputs": [
    {
     "name": "stdout",
     "output_type": "stream",
     "text": [
      "INFO:tensorflow:Occupancy measure error@iter   0: 2.195323 (||params||=1.872485, ||grad||=35.039443, ||E[dr/dw]||=29.571607)\n",
      "INFO:tensorflow:Occupancy measure error@iter  100: 0.730435 (||params||=2.773188, ||grad||=4.941470, ||E[dr/dw]||=15.409534)\n"
     ]
    }
   ],
   "source": [
    "rmodel = tirl.LinearRewardModel(obs_dim)\n",
    "opt = jaxopt.sgd(0.1)\n",
    "final_weights, D_fake = tirl.mce_irl(\n",
    "    mdp, opt, rmodel, D, linf_eps=1e-1)"
   ]
  },
  {
   "cell_type": "code",
   "execution_count": 4,
   "metadata": {},
   "outputs": [
    {
     "name": "stderr",
     "output_type": "stream",
     "text": [
      "/home/sam/.virtualenvs/ray-irl/lib/python3.6/site-packages/jax/lib/xla_bridge.py:130: UserWarning: No GPU/TPU found, falling back to CPU.\n",
      "  warnings.warn('No GPU/TPU found, falling back to CPU.')\n"
     ]
    },
    {
     "name": "stdout",
     "output_type": "stream",
     "text": [
      "INFO:tensorflow:Occupancy measure error@iter   0: 1.072536 (||params||=9.067028, ||grad||=15.974791, ||E[dr/dw]||=35.351801)\n",
      "INFO:tensorflow:Occupancy measure error@iter  100: 0.121608 (||params||=9.682549, ||grad||=0.675209, ||E[dr/dw]||=19.512968)\n",
      "INFO:tensorflow:Occupancy measure error@iter  200: 0.073882 (||params||=9.689708, ||grad||=0.409328, ||E[dr/dw]||=19.594937)\n",
      "INFO:tensorflow:Occupancy measure error@iter  300: 0.050178 (||params||=9.693851, ||grad||=0.276519, ||E[dr/dw]||=19.664320)\n",
      "INFO:tensorflow:Occupancy measure error@iter  400: 0.037148 (||params||=9.696279, ||grad||=0.204107, ||E[dr/dw]||=19.712589)\n",
      "INFO:tensorflow:Occupancy measure error@iter  500: 0.027826 (||params||=9.697656, ||grad||=0.152701, ||E[dr/dw]||=19.743426)\n",
      "INFO:tensorflow:Occupancy measure error@iter  600: 0.020975 (||params||=9.698400, ||grad||=0.115077, ||E[dr/dw]||=19.763492)\n",
      "INFO:tensorflow:Occupancy measure error@iter  700: 0.016318 (||params||=9.698766, ||grad||=0.089549, ||E[dr/dw]||=19.776120)\n",
      "INFO:tensorflow:Occupancy measure error@iter  800: 0.012950 (||params||=9.698911, ||grad||=0.071098, ||E[dr/dw]||=19.784146)\n",
      "INFO:tensorflow:Occupancy measure error@iter  900: 0.010309 (||params||=9.698925, ||grad||=0.056616, ||E[dr/dw]||=19.789418)\n"
     ]
    }
   ],
   "source": [
    "rmodel = tirl.MLPRewardModel(obs_dim, [32, 32])\n",
    "opt = jaxopt.sgd(0.1)\n",
    "final_weights, D_fake = tirl.mce_irl(\n",
    "    mdp, opt, rmodel, D, linf_eps=1e-2)"
   ]
  },
  {
   "cell_type": "markdown",
   "metadata": {},
   "source": [
    "# Same thing, but on grid world\n",
    "\n",
    "The true reward here is not linear in the reduced feature space (i.e $(x,y)$ coordinates). Finding an appropriate linear reward is impossible (as I will demonstration), but an MLP should Just Work(tm)."
   ]
  },
  {
   "cell_type": "code",
   "execution_count": 5,
   "metadata": {},
   "outputs": [
    {
     "name": "stdout",
     "output_type": "stream",
     "text": [
      "INFO:tensorflow:Occupancy measure error@iter   0: 1.745107 (||params||=1.584085, ||grad||=3.627531, ||E[dr/dw]||=4.315728)\n",
      "INFO:tensorflow:Occupancy measure error@iter  100: 1.171931 (||params||=13.676869, ||grad||=0.015060, ||E[dr/dw]||=5.177702)\n",
      "INFO:tensorflow:Occupancy measure error@iter  200: 1.157843 (||params||=16.845171, ||grad||=0.006587, ||E[dr/dw]||=5.179402)\n",
      "INFO:tensorflow:Occupancy measure error@iter  300: 1.152460 (||params||=19.078518, ||grad||=0.003681, ||E[dr/dw]||=5.181941)\n",
      "INFO:tensorflow:Occupancy measure error@iter  400: 1.149673 (||params||=20.637403, ||grad||=0.002185, ||E[dr/dw]||=5.183245)\n",
      "INFO:tensorflow:Occupancy measure error@iter  500: 1.148083 (||params||=21.730349, ||grad||=0.001336, ||E[dr/dw]||=5.183971)\n",
      "INFO:tensorflow:Occupancy measure error@iter  600: 1.147135 (||params||=22.494141, ||grad||=0.000826, ||E[dr/dw]||=5.184425)\n",
      "INFO:tensorflow:Occupancy measure error@iter  700: 1.146542 (||params||=23.021441, ||grad||=0.000508, ||E[dr/dw]||=5.184704)\n",
      "INFO:tensorflow:Occupancy measure error@iter  800: 1.146156 (||params||=23.378208, ||grad||=0.000309, ||E[dr/dw]||=5.184857)\n",
      "INFO:tensorflow:Occupancy measure error@iter  900: 1.145924 (||params||=23.613190, ||grad||=0.000183, ||E[dr/dw]||=5.184971)\n",
      "INFO:tensorflow:Occupancy measure error@iter  1000: 1.145787 (||params||=23.762962, ||grad||=0.000106, ||E[dr/dw]||=5.185052)\n"
     ]
    },
    {
     "data": {
      "image/png": "[encoded data removed]",
      "text/plain": [
       "<Figure size 432x288 with 1 Axes>"
      ]
     },
     "metadata": {
      "needs_background": "light"
     },
     "output_type": "display_data"
    },
    {
     "data": {
      "image/png": "[encoded data removed]",
      "text/plain": [
       "<Figure size 432x288 with 1 Axes>"
      ]
     },
     "metadata": {
      "needs_background": "light"
     },
     "output_type": "display_data"
    },
    {
     "data": {
      "image/png": "[encoded data removed]",
      "text/plain": [
       "<Figure size 432x288 with 2 Axes>"
      ]
     },
     "metadata": {
      "needs_background": "light"
     },
     "output_type": "display_data"
    }
   ],
   "source": [
    "# Same experiments, but on grid world\n",
    "mdp = menv.CliffWorld(\n",
    "    width=7,\n",
    "    height=4,\n",
    "    horizon=8,\n",
    "    use_xy_obs=True)\n",
    "V, Q, pi = tirl.mce_partition_fh(mdp)\n",
    "Dt, D = tirl.mce_occupancy_measures(mdp, pi=pi)\n",
    "demo_counts = D @ mdp.observation_matrix\n",
    "obs_dim, = demo_counts.shape\n",
    "rmodel = tirl.LinearRewardModel(obs_dim)\n",
    "opt = jaxopt.adam(1)\n",
    "final_weights, D_fake = tirl.mce_irl(\n",
    "    mdp, opt, rmodel, D, linf_eps=0.1)\n",
    "\n",
    "mdp.draw_value_vec(D)\n",
    "plt.title(\"Cliff World $p(s)$\")\n",
    "plt.xlabel('x-coord')\n",
    "plt.ylabel('y-coord')\n",
    "plt.show()\n",
    "\n",
    "mdp.draw_value_vec(D_fake)\n",
    "plt.title(\"Occupancy for linear reward function\")\n",
    "plt.show()\n",
    "plt.subplot(1, 2, 1)\n",
    "mdp.draw_value_vec(rmodel.out(mdp.observation_matrix))\n",
    "plt.title(\"Inferred reward\")\n",
    "plt.subplot(1, 2, 2)\n",
    "mdp.draw_value_vec(mdp.reward_matrix)\n",
    "plt.title(\"True reward\")\n",
    "plt.show()"
   ]
  },
  {
   "cell_type": "code",
   "execution_count": 6,
   "metadata": {},
   "outputs": [
    {
     "name": "stdout",
     "output_type": "stream",
     "text": [
      "INFO:tensorflow:Occupancy measure error@iter   0: 1.734397 (||params||=3.449511, ||grad||=7.148362, ||E[dr/dw]||=13.251150)\n",
      "INFO:tensorflow:Occupancy measure error@iter  250: 0.529508 (||params||=7.678983, ||grad||=0.927677, ||E[dr/dw]||=38.457544)\n",
      "INFO:tensorflow:Occupancy measure error@iter  500: 0.180323 (||params||=10.340317, ||grad||=0.393961, ||E[dr/dw]||=49.261944)\n",
      "INFO:tensorflow:Occupancy measure error@iter  750: 0.093852 (||params||=12.058593, ||grad||=0.134416, ||E[dr/dw]||=55.326062)\n",
      "INFO:tensorflow:Occupancy measure error@iter  1000: 0.061583 (||params||=13.251996, ||grad||=0.093111, ||E[dr/dw]||=58.944864)\n",
      "INFO:tensorflow:Occupancy measure error@iter  1250: 0.041767 (||params||=14.235092, ||grad||=0.070250, ||E[dr/dw]||=61.463325)\n"
     ]
    },
    {
     "data": {
      "image/png": "[encoded data removed]",
      "text/plain": [
       "<Figure size 432x288 with 1 Axes>"
      ]
     },
     "metadata": {
      "needs_background": "light"
     },
     "output_type": "display_data"
    },
    {
     "data": {
      "image/png": "[encoded data removed]",
      "text/plain": [
       "<Figure size 432x288 with 2 Axes>"
      ]
     },
     "metadata": {
      "needs_background": "light"
     },
     "output_type": "display_data"
    }
   ],
   "source": [
    "rmodel = tirl.MLPRewardModel(obs_dim, [1024,], activation='Relu')\n",
    "opt = jaxopt.adam(1e-3)\n",
    "final_weights, D_fake_mlp = tirl.mce_irl(\n",
    "    mdp, opt, rmodel, D, linf_eps=3e-2, print_interval=250)\n",
    "mdp.draw_value_vec(D_fake_mlp)\n",
    "plt.title(\"Occupancy for MLP reward function\")\n",
    "plt.show()\n",
    "plt.subplot(1, 2, 1)\n",
    "mdp.draw_value_vec(rmodel.out(mdp.observation_matrix))\n",
    "plt.title(\"Inferred reward\")\n",
    "plt.subplot(1, 2, 2)\n",
    "mdp.draw_value_vec(mdp.reward_matrix)\n",
    "plt.title(\"True reward\")\n",
    "plt.show()"
   ]
  },
  {
   "cell_type": "markdown",
   "metadata": {},
   "source": [
    "Notice that the inferred reward is absolutely nothing like the true reward, but the occupancy measure still (roughly) matches the true occupancy measure."
   ]
  }
 ],
 "metadata": {
  "kernelspec": {
   "display_name": "Python 3",
   "language": "python",
   "name": "python3"
  },
  "language_info": {
   "codemirror_mode": {
    "name": "ipython",
    "version": 3
   },
   "file_extension": ".py",
   "mimetype": "text/x-python",
   "name": "python",
   "nbconvert_exporter": "python",
   "pygments_lexer": "ipython3",
   "version": "3.6.7"
  }
 },
 "nbformat": 4,
 "nbformat_minor": 2
}
